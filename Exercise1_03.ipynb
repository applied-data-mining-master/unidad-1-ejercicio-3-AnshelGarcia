{
 "cells": [
  {
   "cell_type": "markdown",
   "metadata": {},
   "source": [
    "# Exercise 1.03: Teaching the Agent to Win\n",
    "\n",
    "In this exercise, we will see how the steps needed to win can be reduced. We will be making the agent that we developed in the previous section activity detect situations where it can win a game.\n",
    "\n",
    "The following steps will help you to complete this exercise:"
   ]
  },
  {
   "cell_type": "markdown",
   "metadata": {},
   "source": [
    "1.- Reuse the previous code from Steps 1–5 from Activity 1.01"
   ]
  },
  {
   "cell_type": "code",
   "execution_count": 6,
   "metadata": {},
   "outputs": [],
   "source": [
    "from random import choice\n",
    "\n",
    "pos = [[0, 1, 2], [3, 4, 5], [6, 7, 8], [0, 3, 6], [1, 4, 7], [2, 5, 8], [0, 4, 8], [2, 4, 6]]\n",
    "emptycells = '-';\n",
    "ai = 'O';\n",
    "player = 'X';\n",
    "\n",
    "def printBoard(B):\n",
    "    print(\" \")\n",
    "    print(' '.join(B[:3]))\n",
    "    print(' '.join(B[3:6]))\n",
    "    print(' '.join(B[6:]))\n",
    "    print(\" \")\n",
    "    return B\n",
    "\n",
    "def move_player (B, fila, columna):\n",
    "    i = 3 * (fila -1) + (columna -1)\n",
    "    if B[i] == emptycells:\n",
    "        return B[:i] + player + B[i+1:]\n",
    "    return B\n",
    "\n",
    "def all_moves_from_board(B, a):\n",
    "    lista = []\n",
    "    for i, m in enumerate(B):\n",
    "        if m == emptycells:\n",
    "            lista.append(B[:i] + a + B[i+1:])\n",
    "    return lista\n",
    "\n",
    "def movimientos(B):\n",
    "    return choice(all_moves_from_board(B, ai))\n",
    "\n",
    "def game_won_by(B):\n",
    "    for i in pos:\n",
    "        if B[i[0]] == B[i[1]] == \\\n",
    "           B[i[2]] != emptycells:\n",
    "            return B[i[0]]\n",
    "    return emptycells\n",
    "\n",
    "def game_loop():\n",
    "    B = emptycells * 9\n",
    "    contador = 9\n",
    "    fin = False\n",
    "    \n",
    "    while contador > 0 and not fin:\n",
    "        if contador % 2 == 1:\n",
    "            B = movimientos(B)\n",
    "        else:\n",
    "            fila = int(input('Ingrese la fila: '))\n",
    "            columna = int(input('Ingrese la columna: '))\n",
    "            B = move_player(B, fila, columna)\n",
    "        printBoard(B)\n",
    "        fin = game_won_by(B) != emptycells\n",
    "        contador = sum(1 for cell in B if cell == emptycells)\n",
    "    print('El juego termninó.')\n",
    "    \n",
    "def all_moves_from_board_list(listaB, v):\n",
    "    movimientos = []\n",
    "    for B in listaB:\n",
    "        movimientos.extend(all_moves_from_board(board, v))\n",
    "    return movimientos\n",
    "\n",
    "B = emptycells * 9\n",
    "tm = all_moves_from_board(B, ai )\n",
    "tm\n",
    "\n",
    "def filter_wins(movimientos, c_g, p_g):\n",
    "    for B in movimientos:\n",
    "        g = gg(B)\n",
    "        if g == ai:\n",
    "            c_g.append(B)\n",
    "            movimientos.remove(B)\n",
    "        elif g == player:\n",
    "            p_g.append(B)\n",
    "            movimientos.remove(B)\n",
    "            \n",
    "def count_possibilities():\n",
    "    B = emptycells * 9\n",
    "    movimientos = [B]\n",
    "    c_g = []\n",
    "    p_g = []\n",
    "    for i in range(9):\n",
    "        print('Paso ' + str(i) + '. Movimientos: ' + str(len(movimientos)))\n",
    "        v = ai if i % 2 == 0 else player\n",
    "        movimientos = all_moves_from_board_list(movimientos, v)\n",
    "        filter_wins(movimientos, c_g, p_g)\n",
    "    print('Ganó el jugador 1: ' + str(len(c_g)))\n",
    "    print('Ganó el jugador 2: ' + str(len(p_g)))\n",
    "    print('Colocados', str(len(movimientos)))\n",
    "    print('Total', str(len(c_g) + len(p_g) + len(movimientos)))\n",
    "    return len(c_g), len(p_g), len(movimientos), len(c_g) + len(p_g) + len(movimientos)"
   ]
  },
  {
   "cell_type": "code",
   "execution_count": null,
   "metadata": {},
   "outputs": [],
   "source": []
  },
  {
   "cell_type": "markdown",
   "metadata": {},
   "source": [
    "2.- Re-define the function, `ai_move`.  `ai_move` will return a move that consider its own previous moves. If the game can be won in that move, ai_move will select that move:"
   ]
  },
  {
   "cell_type": "code",
   "execution_count": 7,
   "metadata": {},
   "outputs": [],
   "source": [
    "def ai_move(B):\n",
    "    NBS = all_moves_from_board(B, ai)\n",
    "    for NB in NBS:\n",
    "        if gg(NB) == ai:\n",
    "            return NB\n",
    "    return choice(NBS)"
   ]
  },
  {
   "cell_type": "markdown",
   "metadata": {},
   "source": [
    "3.- Test the code snippet with a game loop."
   ]
  },
  {
   "cell_type": "code",
   "execution_count": null,
   "metadata": {},
   "outputs": [
    {
     "name": "stdout",
     "output_type": "stream",
     "text": [
      " \n",
      "- - -\n",
      "- - -\n",
      "- - O\n",
      " \n"
     ]
    }
   ],
   "source": [
    "game_loop()"
   ]
  },
  {
   "cell_type": "markdown",
   "metadata": {},
   "source": [
    "4.- Count all the possible moves. To do this, we must change the `all_moves_from_board` function to include this improvement. We must do this so that, if the game is won by `AI_SIGN`, it will return that value"
   ]
  },
  {
   "cell_type": "code",
   "execution_count": null,
   "metadata": {},
   "outputs": [],
   "source": [
    "def all_moves_from_board(B, s):\n",
    "    movimientos = []\n",
    "    for i, v in enumerate(B):\n",
    "        if v == emptycells:\n",
    "            NB = B[:i] + s + B[i+1:]\n",
    "            movimientos.append(NB)\n",
    "            if gg(NB) == ai:\n",
    "                return [NB]\n",
    "    return movimientos"
   ]
  },
  {
   "cell_type": "markdown",
   "metadata": {},
   "source": [
    "5.- find all the possibilities using the `count_possibilities` function\n",
    "\n",
    "Output:\n",
    "\n",
    "```\n",
    "step 0. Moves: 1\n",
    " step 1. Moves: 9\n",
    " step 2. Moves: 72\n",
    " step 3. Moves: 504\n",
    " step 4. Moves: 3024\n",
    " step 5. Moves: 8525\n",
    " step 6. Moves: 28612\n",
    " step 7. Moves: 42187\n",
    " step 8. Moves: 55888\n",
    " First player wins: 32395\n",
    " Second player wins: 23445\n",
    " Draw 35544\n",
    " Total 91384\n",
    "```"
   ]
  },
  {
   "cell_type": "code",
   "execution_count": null,
   "metadata": {},
   "outputs": [],
   "source": [
    "jugador1, jugador2, col, total = count_possibilities()"
   ]
  }
 ],
 "metadata": {
  "kernelspec": {
   "display_name": "Python 3",
   "language": "python",
   "name": "python3"
  },
  "language_info": {
   "codemirror_mode": {
    "name": "ipython",
    "version": 3
   },
   "file_extension": ".py",
   "mimetype": "text/x-python",
   "name": "python",
   "nbconvert_exporter": "python",
   "pygments_lexer": "ipython3",
   "version": "3.8.5"
  }
 },
 "nbformat": 4,
 "nbformat_minor": 4
}
